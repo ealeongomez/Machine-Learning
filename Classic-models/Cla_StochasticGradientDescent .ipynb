{
  "cells": [
    {
      "cell_type": "markdown",
      "metadata": {
        "id": "75TPlgorM6X6"
      },
      "source": [
        "\n",
        "#**Libraries**"
      ]
    },
    {
      "cell_type": "code",
      "execution_count": 19,
      "metadata": {
        "id": "68uRTMEOM8hE"
      },
      "outputs": [],
      "source": [
        "# Basic libraries\n",
        "import numpy as np\n",
        "import seaborn as sns\n",
        "import matplotlib.pyplot as plt\n",
        "from sklearn.datasets import load_breast_cancer\n",
        "\n",
        "# Pre-processing\n",
        "from sklearn.preprocessing import StandardScaler\n",
        "\n",
        "# Machine Learning\n",
        "from sklearn.model_selection import train_test_split, cross_val_score\n",
        "from sklearn.decomposition import PCA\n",
        "from sklearn.linear_model import SGDClassifier\n",
        "\n",
        "# Performace metrics \n",
        "from sklearn import metrics\n",
        "from sklearn.metrics import confusion_matrix, precision_score, recall_score, f1_score, roc_curve, classification_report"
      ]
    },
    {
      "cell_type": "markdown",
      "metadata": {
        "id": "__IZ-0dsNdu_"
      },
      "source": [
        "#**Load data**"
      ]
    },
    {
      "cell_type": "code",
      "execution_count": 2,
      "metadata": {
        "id": "LMsNibXXNgRK"
      },
      "outputs": [],
      "source": [
        "dataset = load_breast_cancer()"
      ]
    },
    {
      "cell_type": "code",
      "execution_count": 3,
      "metadata": {
        "colab": {
          "base_uri": "https://localhost:8080/"
        },
        "id": "w5j2jjyjNrUj",
        "outputId": "7cec444b-c0ba-4b09-a581-7039d3f08d3a"
      },
      "outputs": [
        {
          "data": {
            "text/plain": [
              "dict_keys(['data', 'target', 'target_names', 'DESCR', 'feature_names', 'filename'])"
            ]
          },
          "execution_count": 3,
          "metadata": {},
          "output_type": "execute_result"
        }
      ],
      "source": [
        "dataset.keys()"
      ]
    },
    {
      "cell_type": "code",
      "execution_count": 4,
      "metadata": {
        "colab": {
          "base_uri": "https://localhost:8080/"
        },
        "id": "3DmDEWUhN1R6",
        "outputId": "173ed349-c876-4ab1-f062-6bca7f2ff304"
      },
      "outputs": [
        {
          "name": "stdout",
          "output_type": "stream",
          "text": [
            "Target variables  :  ['malignant' 'benign']\n",
            "Unique values of the target variable [0 1]\n",
            "Counts of the target variable : [212 357]\n"
          ]
        }
      ],
      "source": [
        "print('Target variables  : ', dataset['target_names'])\n",
        "\n",
        "(unique, counts) = np.unique(dataset['target'], return_counts=True)\n",
        "\n",
        "print('Unique values of the target variable', unique)\n",
        "print('Counts of the target variable :', counts)"
      ]
    },
    {
      "cell_type": "code",
      "execution_count": 5,
      "metadata": {
        "colab": {
          "base_uri": "https://localhost:8080/"
        },
        "id": "CN8WRYdLOAT7",
        "outputId": "3abcb209-9511-4aa0-9c68-7ab22202607d"
      },
      "outputs": [
        {
          "data": {
            "text/plain": [
              "((569, 30), (569,))"
            ]
          },
          "execution_count": 5,
          "metadata": {},
          "output_type": "execute_result"
        }
      ],
      "source": [
        "X = dataset['data']\n",
        "y = dataset['target']\n",
        "\n",
        "X.shape, y.shape"
      ]
    },
    {
      "cell_type": "code",
      "execution_count": 33,
      "metadata": {
        "id": "U9b_Cd2KaXUF"
      },
      "outputs": [],
      "source": [
        "pca = PCA(n_components=2)\n",
        "X_PCA = pca.fit_transform(X)\n"
      ]
    },
    {
      "cell_type": "code",
      "execution_count": 35,
      "metadata": {
        "colab": {
          "base_uri": "https://localhost:8080/",
          "height": 282
        },
        "id": "tzo4hioDbBO3",
        "outputId": "b39a333e-8ab5-42f1-d553-7f6b0fad8c2c"
      },
      "outputs": [
        {
          "data": {
            "image/png": "[encoded data removed]",
            "text/plain": [
              "<Figure size 432x288 with 1 Axes>"
            ]
          },
          "metadata": {
            "needs_background": "light"
          },
          "output_type": "display_data"
        }
      ],
      "source": [
        "colors = ['r', 'b']\n",
        "markers = ['x', 'o']\n",
        "for l, c, m in zip(np.unique(y_train), colors, markers):\n",
        "  plt.scatter(X_PCA[y==l, 0], X_PCA[y==l, 1], c=c, label=dataset['target_names'][l], marker=m)\n",
        "\n",
        "plt.xlabel('Princial component 1')\n",
        "plt.ylabel('Princial component 2')\n",
        "plt.legend()\n",
        "plt.grid()\n",
        "plt.show()"
      ]
    },
    {
      "cell_type": "code",
      "execution_count": 6,
      "metadata": {
        "colab": {
          "base_uri": "https://localhost:8080/"
        },
        "id": "rRZxK0GFPCea",
        "outputId": "1668f84c-486e-44d4-86ff-5cf299381a56"
      },
      "outputs": [
        {
          "data": {
            "text/plain": [
              "((398, 30), (171, 30), (398,), (171,))"
            ]
          },
          "execution_count": 6,
          "metadata": {},
          "output_type": "execute_result"
        }
      ],
      "source": [
        "X_train, X_test, y_train, y_test = train_test_split(X, y, test_size=0.30, random_state=42)\n",
        "\n",
        "X_train.shape, X_test.shape, y_train.shape, y_test.shape"
      ]
    },
    {
      "cell_type": "markdown",
      "metadata": {
        "id": "KGjByGyfPIoV"
      },
      "source": [
        "#**SGDClassifier**"
      ]
    },
    {
      "cell_type": "code",
      "execution_count": 7,
      "metadata": {
        "colab": {
          "base_uri": "https://localhost:8080/"
        },
        "id": "jgDShX-zPOks",
        "outputId": "2bf7161f-4d61-4ad3-fea8-13c8448046ea"
      },
      "outputs": [
        {
          "data": {
            "text/plain": [
              "SGDClassifier(alpha=0.0001, average=False, class_weight=None,\n",
              "              early_stopping=False, epsilon=0.1, eta0=0.0, fit_intercept=True,\n",
              "              l1_ratio=0.15, learning_rate='optimal', loss='hinge',\n",
              "              max_iter=1000, n_iter_no_change=5, n_jobs=None, penalty='l2',\n",
              "              power_t=0.5, random_state=42, shuffle=True, tol=0.001,\n",
              "              validation_fraction=0.1, verbose=0, warm_start=False)"
            ]
          },
          "execution_count": 7,
          "metadata": {},
          "output_type": "execute_result"
        }
      ],
      "source": [
        "sdg_clf = SGDClassifier(random_state=42)\n",
        "sdg_clf.fit(X_train, y_train)"
      ]
    },
    {
      "cell_type": "code",
      "execution_count": 8,
      "metadata": {
        "colab": {
          "base_uri": "https://localhost:8080/"
        },
        "id": "HxWxkerhPuLZ",
        "outputId": "1c91f04d-b854-4b09-a2eb-3f80fdabe2bc"
      },
      "outputs": [
        {
          "data": {
            "text/plain": [
              "(171,)"
            ]
          },
          "execution_count": 8,
          "metadata": {},
          "output_type": "execute_result"
        }
      ],
      "source": [
        "y_pred = sdg_clf.predict(X_test)\n",
        "\n",
        "y_pred.shape"
      ]
    },
    {
      "cell_type": "markdown",
      "metadata": {
        "id": "YFvHFpx8QGT8"
      },
      "source": [
        "#**Performace metris**"
      ]
    },
    {
      "cell_type": "markdown",
      "metadata": {
        "id": "VYvj-vmfQoPy"
      },
      "source": [
        "**Confusion matriz**"
      ]
    },
    {
      "cell_type": "markdown",
      "metadata": {
        "id": "2cec00QMQvcy"
      },
      "source": [
        "![image.png](data:image/png;base64,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)"
      ]
    },
    {
      "cell_type": "code",
      "execution_count": 9,
      "metadata": {
        "colab": {
          "base_uri": "https://localhost:8080/"
        },
        "id": "zugjijc1QZxL",
        "outputId": "c4ea78f8-8e74-4ddd-9270-63d3a8b9b619"
      },
      "outputs": [
        {
          "name": "stdout",
          "output_type": "stream",
          "text": [
            "[[ 54   9]\n",
            " [  0 108]]\n"
          ]
        }
      ],
      "source": [
        "conf_mx = confusion_matrix(y_test, y_pred)\n",
        "\n",
        "print(conf_mx)"
      ]
    },
    {
      "cell_type": "markdown",
      "metadata": {
        "id": "s4uIQ9lERQ_q"
      },
      "source": [
        "**Presicion and sensibility**"
      ]
    },
    {
      "cell_type": "markdown",
      "metadata": {
        "id": "W--pHKuZRW8C"
      },
      "source": [
        "\n",
        "$$precision = \\frac{TP}{TP+FP}$$\n",
        "\n",
        "$$Sensibility = \\frac{TP}{TP+FN}$$"
      ]
    },
    {
      "cell_type": "code",
      "execution_count": 10,
      "metadata": {
        "colab": {
          "base_uri": "https://localhost:8080/"
        },
        "id": "AaNR_mKpRVcZ",
        "outputId": "05701696-f5ee-411a-b148-790aa4f73088"
      },
      "outputs": [
        {
          "name": "stdout",
          "output_type": "stream",
          "text": [
            "0.9230769230769231\n",
            "1.0\n"
          ]
        }
      ],
      "source": [
        "print(precision_score(y_test, y_pred))\n",
        "print(recall_score(y_test, y_pred))"
      ]
    },
    {
      "cell_type": "markdown",
      "metadata": {
        "id": "wwge-BcdSR02"
      },
      "source": [
        "$$F_1 = \\frac{TP}{TP+ \\frac{FN+FP}{2}}$$"
      ]
    },
    {
      "cell_type": "code",
      "execution_count": 11,
      "metadata": {
        "colab": {
          "base_uri": "https://localhost:8080/"
        },
        "id": "ZpI3-NIZSlYt",
        "outputId": "dfbb2e43-08af-457c-bed0-2372e6c808a7"
      },
      "outputs": [
        {
          "name": "stdout",
          "output_type": "stream",
          "text": [
            "0.9600000000000001\n"
          ]
        }
      ],
      "source": [
        "print(f1_score(y_test, y_pred))"
      ]
    },
    {
      "cell_type": "code",
      "execution_count": 12,
      "metadata": {
        "colab": {
          "base_uri": "https://localhost:8080/"
        },
        "id": "x7nU-3V4ZkNw",
        "outputId": "452ccb86-51ad-40b6-8a9d-2d1d8df19788"
      },
      "outputs": [
        {
          "name": "stdout",
          "output_type": "stream",
          "text": [
            "              precision    recall  f1-score   support\n",
            "\n",
            "   malignant       1.00      0.86      0.92        63\n",
            "      benign       0.92      1.00      0.96       108\n",
            "\n",
            "    accuracy                           0.95       171\n",
            "   macro avg       0.96      0.93      0.94       171\n",
            "weighted avg       0.95      0.95      0.95       171\n",
            "\n"
          ]
        }
      ],
      "source": [
        "print(classification_report(y_test, y_pred, target_names=dataset['target_names']))"
      ]
    },
    {
      "cell_type": "markdown",
      "metadata": {
        "id": "5NzH98iSWz69"
      },
      "source": [
        "**Curve ROC**"
      ]
    },
    {
      "cell_type": "code",
      "execution_count": 13,
      "metadata": {
        "id": "7xnBG14-W2cT"
      },
      "outputs": [],
      "source": [
        "fpr, tpr, thresholds = roc_curve(y_test, y_pred)"
      ]
    },
    {
      "cell_type": "code",
      "execution_count": 14,
      "metadata": {
        "id": "WQqkfh-XXA0W"
      },
      "outputs": [],
      "source": [
        "def plot_roc(fpr, trp, label=None):\n",
        "  plt.plot(fpr, tpr, linewidth=2, label=label)\n",
        "  plt.plot([0,1],[0,1], 'k--')\n",
        "  plt.xlabel('False Positive Rate')\n",
        "  plt.ylabel('True Positive Rate (Recall)')\n",
        "  plt.grid()\n",
        "  plt.xlim(0,1)\n",
        "  plt.ylim(0,1)\n",
        "  "
      ]
    },
    {
      "cell_type": "code",
      "execution_count": 15,
      "metadata": {
        "colab": {
          "base_uri": "https://localhost:8080/",
          "height": 283
        },
        "id": "PmsXlCGGXqEo",
        "outputId": "0818858a-e60e-486d-e20c-cf8fa620a2ff"
      },
      "outputs": [
        {
          "data": {
            "image/png": "[encoded data removed]",
            "text/plain": [
              "<Figure size 432x288 with 1 Axes>"
            ]
          },
          "metadata": {
            "needs_background": "light"
          },
          "output_type": "display_data"
        }
      ],
      "source": [
        "plot_roc(fpr, tpr, 'SGDClassifier')"
      ]
    }
  ],
  "metadata": {
    "colab": {
      "authorship_tag": "ABX9TyMe2fPj2Wl37ClRvtAiNzMT",
      "include_colab_link": true,
      "name": "Cla_SGDC_cancer.ipynb",
      "provenance": []
    },
    "kernelspec": {
      "display_name": "Python 3",
      "name": "python3"
    },
    "language_info": {
      "name": "python"
    }
  },
  "nbformat": 4,
  "nbformat_minor": 0
}
