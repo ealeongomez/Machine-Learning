{
  "nbformat": 4,
  "nbformat_minor": 0,
  "metadata": {
    "colab": {
      "name": "DR_PrincipalComponentAnalysis.ipynb",
      "provenance": [],
      "collapsed_sections": [],
      "authorship_tag": "ABX9TyMgGKUBXJlsNxsVBxkfrxjR",
      "include_colab_link": true
    },
    "kernelspec": {
      "name": "python3",
      "display_name": "Python 3"
    },
    "language_info": {
      "name": "python"
    }
  },
  "cells": [
    {
      "cell_type": "markdown",
      "metadata": {
        "id": "view-in-github",
        "colab_type": "text"
      },
      "source": [
        "<a href=\"https://colab.research.google.com/github/ealeongomez/Machine-Learning/blob/main/DR_PrincipalComponentAnalysis.ipynb\" target=\"_parent\"><img src=\"https://colab.research.google.com/assets/colab-badge.svg\" alt=\"Open In Colab\"/></a>"
      ]
    },
    {
      "cell_type": "code",
      "metadata": {
        "id": "UNqQWFDpAriy"
      },
      "source": [
        "import numpy as np\n",
        "import pandas as pd\n",
        "import matplotlib.pyplot as plt\n",
        "\n",
        "from sklearn.datasets import load_iris\n",
        "from sklearn.model_selection import train_test_split\n",
        "from sklearn.preprocessing import StandardScaler\n",
        "from sklearn.decomposition import PCA\n",
        "from sklearn.linear_model import LogisticRegression"
      ],
      "execution_count": null,
      "outputs": []
    },
    {
      "cell_type": "markdown",
      "metadata": {
        "id": "sVWez27IDLiY"
      },
      "source": [
        "#**Load data**"
      ]
    },
    {
      "cell_type": "code",
      "metadata": {
        "colab": {
          "base_uri": "https://localhost:8080/",
          "height": 201
        },
        "id": "qIYNfr37FhDj",
        "outputId": "1862ef7f-25c6-4821-dedd-1346ea6914dc"
      },
      "source": [
        "df_wine = pd.read_csv(\"http://archive.ics.uci.edu/ml/machine-learning-databases/wine/wine.data\", header=None)\n",
        "\n",
        "df_wine.head()"
      ],
      "execution_count": null,
      "outputs": [
        {
          "output_type": "execute_result",
          "data": {
            "text/html": [
              "<div>\n",
              "<style scoped>\n",
              "    .dataframe tbody tr th:only-of-type {\n",
              "        vertical-align: middle;\n",
              "    }\n",
              "\n",
              "    .dataframe tbody tr th {\n",
              "        vertical-align: top;\n",
              "    }\n",
              "\n",
              "    .dataframe thead th {\n",
              "        text-align: right;\n",
              "    }\n",
              "</style>\n",
              "<table border=\"1\" class=\"dataframe\">\n",
              "  <thead>\n",
              "    <tr style=\"text-align: right;\">\n",
              "      <th></th>\n",
              "      <th>0</th>\n",
              "      <th>1</th>\n",
              "      <th>2</th>\n",
              "      <th>3</th>\n",
              "      <th>4</th>\n",
              "      <th>5</th>\n",
              "      <th>6</th>\n",
              "      <th>7</th>\n",
              "      <th>8</th>\n",
              "      <th>9</th>\n",
              "      <th>10</th>\n",
              "      <th>11</th>\n",
              "      <th>12</th>\n",
              "      <th>13</th>\n",
              "    </tr>\n",
              "  </thead>\n",
              "  <tbody>\n",
              "    <tr>\n",
              "      <th>0</th>\n",
              "      <td>1</td>\n",
              "      <td>14.23</td>\n",
              "      <td>1.71</td>\n",
              "      <td>2.43</td>\n",
              "      <td>15.6</td>\n",
              "      <td>127</td>\n",
              "      <td>2.80</td>\n",
              "      <td>3.06</td>\n",
              "      <td>0.28</td>\n",
              "      <td>2.29</td>\n",
              "      <td>5.64</td>\n",
              "      <td>1.04</td>\n",
              "      <td>3.92</td>\n",
              "      <td>1065</td>\n",
              "    </tr>\n",
              "    <tr>\n",
              "      <th>1</th>\n",
              "      <td>1</td>\n",
              "      <td>13.20</td>\n",
              "      <td>1.78</td>\n",
              "      <td>2.14</td>\n",
              "      <td>11.2</td>\n",
              "      <td>100</td>\n",
              "      <td>2.65</td>\n",
              "      <td>2.76</td>\n",
              "      <td>0.26</td>\n",
              "      <td>1.28</td>\n",
              "      <td>4.38</td>\n",
              "      <td>1.05</td>\n",
              "      <td>3.40</td>\n",
              "      <td>1050</td>\n",
              "    </tr>\n",
              "    <tr>\n",
              "      <th>2</th>\n",
              "      <td>1</td>\n",
              "      <td>13.16</td>\n",
              "      <td>2.36</td>\n",
              "      <td>2.67</td>\n",
              "      <td>18.6</td>\n",
              "      <td>101</td>\n",
              "      <td>2.80</td>\n",
              "      <td>3.24</td>\n",
              "      <td>0.30</td>\n",
              "      <td>2.81</td>\n",
              "      <td>5.68</td>\n",
              "      <td>1.03</td>\n",
              "      <td>3.17</td>\n",
              "      <td>1185</td>\n",
              "    </tr>\n",
              "    <tr>\n",
              "      <th>3</th>\n",
              "      <td>1</td>\n",
              "      <td>14.37</td>\n",
              "      <td>1.95</td>\n",
              "      <td>2.50</td>\n",
              "      <td>16.8</td>\n",
              "      <td>113</td>\n",
              "      <td>3.85</td>\n",
              "      <td>3.49</td>\n",
              "      <td>0.24</td>\n",
              "      <td>2.18</td>\n",
              "      <td>7.80</td>\n",
              "      <td>0.86</td>\n",
              "      <td>3.45</td>\n",
              "      <td>1480</td>\n",
              "    </tr>\n",
              "    <tr>\n",
              "      <th>4</th>\n",
              "      <td>1</td>\n",
              "      <td>13.24</td>\n",
              "      <td>2.59</td>\n",
              "      <td>2.87</td>\n",
              "      <td>21.0</td>\n",
              "      <td>118</td>\n",
              "      <td>2.80</td>\n",
              "      <td>2.69</td>\n",
              "      <td>0.39</td>\n",
              "      <td>1.82</td>\n",
              "      <td>4.32</td>\n",
              "      <td>1.04</td>\n",
              "      <td>2.93</td>\n",
              "      <td>735</td>\n",
              "    </tr>\n",
              "  </tbody>\n",
              "</table>\n",
              "</div>"
            ],
            "text/plain": [
              "   0      1     2     3     4    5   ...    8     9     10    11    12    13\n",
              "0   1  14.23  1.71  2.43  15.6  127  ...  0.28  2.29  5.64  1.04  3.92  1065\n",
              "1   1  13.20  1.78  2.14  11.2  100  ...  0.26  1.28  4.38  1.05  3.40  1050\n",
              "2   1  13.16  2.36  2.67  18.6  101  ...  0.30  2.81  5.68  1.03  3.17  1185\n",
              "3   1  14.37  1.95  2.50  16.8  113  ...  0.24  2.18  7.80  0.86  3.45  1480\n",
              "4   1  13.24  2.59  2.87  21.0  118  ...  0.39  1.82  4.32  1.04  2.93   735\n",
              "\n",
              "[5 rows x 14 columns]"
            ]
          },
          "metadata": {
            "tags": []
          },
          "execution_count": 2
        }
      ]
    },
    {
      "cell_type": "markdown",
      "metadata": {
        "id": "SGEQdkO6Auhg"
      },
      "source": [
        "#**Principal Component Analysis**\n"
      ]
    },
    {
      "cell_type": "code",
      "metadata": {
        "colab": {
          "base_uri": "https://localhost:8080/"
        },
        "id": "ojRAVanEUQDz",
        "outputId": "6d7af0f3-7035-4826-9c31-de83a9477c4a"
      },
      "source": [
        "X, y = df_wine.iloc[:,1:].values, df_wine.iloc[:,0].values\n",
        "\n",
        "X_train, X_test, y_train, y_test = train_test_split(X, y, test_size=0.3, random_state=0)\n",
        "\n",
        "X_train.shape, X_test.shape, y_train.shape, y_test.shape"
      ],
      "execution_count": null,
      "outputs": [
        {
          "output_type": "execute_result",
          "data": {
            "text/plain": [
              "((124, 13), (54, 13), (124,), (54,))"
            ]
          },
          "metadata": {
            "tags": []
          },
          "execution_count": 3
        }
      ]
    },
    {
      "cell_type": "markdown",
      "metadata": {
        "id": "lrK8iywDA1Jj"
      },
      "source": [
        "- Método no supervisado de reducción de la dimensionalidad\n",
        "- Permite la identificación de correlación entre características \n",
        "\n"
      ]
    },
    {
      "cell_type": "markdown",
      "metadata": {
        "id": "FIrcy8AZDY1P"
      },
      "source": [
        "$$ x = \\left[ x_1, x_2, ... , x_d \\right], \\; x \\; \\epsilon \\; R^{d}$$\n",
        "\n",
        "$$ x \\textbf{W}, \\; \\textbf{W} \\; \\epsilon \\; R^{dxk} $$\n",
        "\n",
        "$$ z = \\left[ z_1, z_2, ... , z_d \\right], \\; z \\; \\epsilon \\; R^{k} $$\n",
        "\n",
        "Donde $k<$d\n"
      ]
    },
    {
      "cell_type": "markdown",
      "metadata": {
        "id": "EDm1LDZIJsR5"
      },
      "source": [
        " 1. Estandarizar los datos\n",
        " 2. Construcción de la matriz de covarianza\n",
        " 3. Obtener los autovalores y autovectores de la matriz de covarianza\n",
        " 4. Ordenar los autovalores por orden decreciente para clasificar los autovectores "
      ]
    },
    {
      "cell_type": "markdown",
      "metadata": {
        "id": "256WZXROOXSS"
      },
      "source": [
        "$$X_{std} = \\frac{x-\\mu}{\\rho}$$\n",
        "\n",
        "Donde $x$ es el vector de entrada, $\\mu$ es la media y $\\rho$ es la desviación estandar"
      ]
    },
    {
      "cell_type": "code",
      "metadata": {
        "id": "FbKjJkZ7MM5d"
      },
      "source": [
        "# Estandarización de las características \n",
        "sc = StandardScaler()\n",
        "\n",
        "X_train_std = sc.fit_transform(X_train)\n",
        "X_test_std = sc.fit_transform(X_test)"
      ],
      "execution_count": null,
      "outputs": []
    },
    {
      "cell_type": "markdown",
      "metadata": {
        "id": "Go2R09a-M18V"
      },
      "source": [
        "La covarianza entre dos vectores $x_j$ y $x_k$ puede ser calculada como: \n",
        "\n",
        "$$\\sigma_{jk} = \\frac{1}{n} \\sum_{i=1}^{n} \\left( x_j^{(i)} -\\mu_j \\right) \\left( x_k^{(i)} -\\mu_k \\right)$$\n",
        "\n",
        "Si tenemos 3 vectores de tres características, tendremos la matriz de covarianza representada por $\\Sigma$ sera:\n",
        "\n",
        "$$\\Sigma = \\begin{bmatrix}{\\sigma_1^2}&{\\sigma_{12}}&{\\sigma_{13}}\\\\{\\sigma_{21}}&{\\sigma_2^2}&{\\sigma_{23}}\\\\{\\sigma_{31}}&{\\sigma_{32}}&{\\sigma_3^2}\\end{bmatrix}$$\n",
        "\n",
        "Los autovectores de la matriz de covarianza representan las componentes principales (las direcciones de máxima varianza). Po otro lado, los autovalores definirian la magnitud  \n",
        "\n",
        "**Recordemos conceptos**:\n",
        "\n",
        "1. Autovalores:\n",
        "\n",
        "$$det\\left( A - \\lambda I \\right) = 0$$\n",
        "\n",
        "2. Autovectores:\n",
        "\n",
        "$$ \\left(A–λI\\right).v = 0$$\n",
        "\n"
      ]
    },
    {
      "cell_type": "code",
      "metadata": {
        "colab": {
          "base_uri": "https://localhost:8080/"
        },
        "id": "eY1kgAvrNw-C",
        "outputId": "57bd3da7-5e41-4ad9-cb8c-8e6f951c0819"
      },
      "source": [
        "# Construcción de la matriz de covarianza\n",
        "cov_mat = np.cov(X_train_std.T)\n",
        "\n",
        "# Obtener los autovalores y autovectores de la matriz de covarianza\n",
        "eigen_vals, eigen_vecs = np.linalg.eig(cov_mat)\n",
        "\n",
        "print('\\nEigenvalues \\n%s' % eigen_vals)"
      ],
      "execution_count": null,
      "outputs": [
        {
          "output_type": "stream",
          "text": [
            "\n",
            "Eigenvalues \n",
            "[4.8923083  2.46635032 1.42809973 1.01233462 0.84906459 0.60181514\n",
            " 0.52251546 0.08414846 0.33051429 0.29595018 0.16831254 0.21432212\n",
            " 0.2399553 ]\n"
          ],
          "name": "stdout"
        }
      ]
    },
    {
      "cell_type": "markdown",
      "metadata": {
        "id": "cHZGnQ_qX-57"
      },
      "source": [
        "$$\\frac{\\lambda_j}{\\sum_{j=1}^{d} \\lambda_j}$$\n",
        "\n",
        "La selección de características consiste en seleccionar los autovectores (componenete principales) que contiene mayor cantidad de información (varianza)"
      ]
    },
    {
      "cell_type": "code",
      "metadata": {
        "colab": {
          "base_uri": "https://localhost:8080/",
          "height": 277
        },
        "id": "dyV-TJRPUYTK",
        "outputId": "3e670f4a-6b0c-4bcd-f722-05fbb26ebe56"
      },
      "source": [
        "# Varianza total explicada \n",
        "tot = sum(eigen_vals)\n",
        "var_exp = [(i/tot) for i in sorted(eigen_vals, reverse=True)]\n",
        "cum_var_exp = np.cumsum(var_exp)\n",
        "plt.bar(range(1,14), var_exp, alpha=0.5, align='center', label='Individual explain variance')\n",
        "plt.step(range(1,14), cum_var_exp, where='mid', label='Cumulative explain variance')\n",
        "plt.ylabel('Explained variance ratio')\n",
        "plt.xlabel('Principal componet index')\n",
        "plt.legend(loc='best')\n",
        "plt.grid()\n",
        "plt.show()\n"
      ],
      "execution_count": null,
      "outputs": [
        {
          "output_type": "display_data",
          "data": {
            "image/png": "[encoded data removed]",
            "text/plain": [
              "<Figure size 432x288 with 1 Axes>"
            ]
          },
          "metadata": {
            "tags": [],
            "needs_background": "light"
          }
        }
      ]
    },
    {
      "cell_type": "markdown",
      "metadata": {
        "id": "loX2QoZ-aWJI"
      },
      "source": [
        "**Transformación de características**"
      ]
    },
    {
      "cell_type": "code",
      "metadata": {
        "id": "6jnkDSHNakv7"
      },
      "source": [
        "# Hacer una lista de las tuplas (autovalores y autovectores)\n",
        "eigen_pairs = [(np.abs(eigen_vals[i]), eigen_vecs[:, i]) for i in range(len(eigen_vals))]\n",
        "                       \n",
        "# Ordenar las tuplas (autovalores, autoveecotes) de mayor a menor\n",
        "eigen_pairs.sort(key = lambda k: k[0], reverse=True)"
      ],
      "execution_count": null,
      "outputs": []
    },
    {
      "cell_type": "code",
      "metadata": {
        "colab": {
          "base_uri": "https://localhost:8080/"
        },
        "id": "JOypmO3ycAGd",
        "outputId": "948460cb-454b-4365-a94b-8b107c0fb8ef"
      },
      "source": [
        "w = np.hstack((eigen_pairs[0][1][:, np.newaxis], eigen_pairs[1][1][:, np.newaxis]))\n",
        "\n",
        "print(\"Matrix W: \\n\", w)"
      ],
      "execution_count": null,
      "outputs": [
        {
          "output_type": "stream",
          "text": [
            "Matrix W: \n",
            " [[ 0.14669811  0.50417079]\n",
            " [-0.24224554  0.24216889]\n",
            " [-0.02993442  0.28698484]\n",
            " [-0.25519002 -0.06468718]\n",
            " [ 0.12079772  0.22995385]\n",
            " [ 0.38934455  0.09363991]\n",
            " [ 0.42326486  0.01088622]\n",
            " [-0.30634956  0.01870216]\n",
            " [ 0.30572219  0.03040352]\n",
            " [-0.09869191  0.54527081]\n",
            " [ 0.30032535 -0.27924322]\n",
            " [ 0.36821154 -0.174365  ]\n",
            " [ 0.29259713  0.36315461]]\n"
          ],
          "name": "stdout"
        }
      ]
    },
    {
      "cell_type": "code",
      "metadata": {
        "colab": {
          "base_uri": "https://localhost:8080/"
        },
        "id": "wnpVHqsAcdR6",
        "outputId": "3173c8d1-b313-4ff2-9f18-35a2cbd43835"
      },
      "source": [
        "X_train_PCA = X_train_std.dot(w)\n",
        "X_train.shape"
      ],
      "execution_count": null,
      "outputs": [
        {
          "output_type": "execute_result",
          "data": {
            "text/plain": [
              "(124, 13)"
            ]
          },
          "metadata": {
            "tags": []
          },
          "execution_count": 9
        }
      ]
    },
    {
      "cell_type": "code",
      "metadata": {
        "colab": {
          "base_uri": "https://localhost:8080/",
          "height": 277
        },
        "id": "UZNZ-nFKcpUm",
        "outputId": "4824cbdf-66e4-44b0-ed2e-29ff6d00b112"
      },
      "source": [
        "colors = ['r', 'b', 'g']\n",
        "markers = ['s', 'x', 'o']\n",
        "\n",
        "for l, c, m in zip(np.unique(y_train), colors, markers):\n",
        "  plt.scatter(X_train_PCA[y_train==l, 0], X_train_PCA[y_train==l, 1], c=c, label=l, marker=m)\n",
        "\n",
        "plt.xlabel('Princial component 1')\n",
        "plt.ylabel('Princial component 2')\n",
        "plt.legend()\n",
        "plt.grid()\n",
        "plt.show()"
      ],
      "execution_count": null,
      "outputs": [
        {
          "output_type": "display_data",
          "data": {
            "image/png": "[encoded data removed]",
            "text/plain": [
              "<Figure size 432x288 with 1 Axes>"
            ]
          },
          "metadata": {
            "tags": [],
            "needs_background": "light"
          }
        }
      ]
    },
    {
      "cell_type": "code",
      "metadata": {
        "colab": {
          "base_uri": "https://localhost:8080/",
          "height": 277
        },
        "id": "cGpwpwaweCvD",
        "outputId": "563d9194-e9ea-4a15-a1a6-925202e989e7"
      },
      "source": [
        "#lr = LogisticRegression()\n",
        "\n",
        "pca = PCA(n_components=2)\n",
        "X_train_PCA_SK = pca.fit_transform(X_train_std)\n",
        "X_test_PCA = pca.fit_transform(X_test_std)\n",
        "\n",
        "#lr.fit(X_train_PCA, y_train)\n",
        "\n",
        "for l, c, m in zip(np.unique(y_train), colors, markers):\n",
        "  plt.scatter(X_train_PCA_SK[y_train==l, 0], X_train_PCA_SK[y_train==l, 1], c=c, label=l, marker=m)\n",
        "\n",
        "plt.xlabel('Princial component 1')\n",
        "plt.ylabel('Princial component 2')\n",
        "plt.legend()\n",
        "plt.grid()\n",
        "plt.show()\n"
      ],
      "execution_count": null,
      "outputs": [
        {
          "output_type": "display_data",
          "data": {
            "image/png": "[encoded data removed]",
            "text/plain": [
              "<Figure size 432x288 with 1 Axes>"
            ]
          },
          "metadata": {
            "tags": [],
            "needs_background": "light"
          }
        }
      ]
    },
    {
      "cell_type": "markdown",
      "metadata": {
        "id": "GTV1GLPggPWT"
      },
      "source": [
        "Nota:\n",
        "\n",
        "Las imagenes se invierten, esto debe a que los autovectores pueden tener signos tanto positivos como negativos"
      ]
    }
  ]
}