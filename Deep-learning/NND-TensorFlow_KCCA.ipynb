{
  "nbformat": 4,
  "nbformat_minor": 0,
  "metadata": {
    "colab": {
      "name": "KCCA.ipynb",
      "provenance": [],
      "authorship_tag": "ABX9TyNVMF4rSrNxhMifsTmrvCXD",
      "include_colab_link": true
    },
    "kernelspec": {
      "name": "python3",
      "display_name": "Python 3"
    },
    "accelerator": "GPU"
  },
  "cells": [
    {
      "cell_type": "markdown",
      "metadata": {
        "id": "view-in-github",
        "colab_type": "text"
      },
      "source": [
        "<a href=\"https://colab.research.google.com/github/ealeongomez/Deep-Learning/blob/master/KCCA.ipynb\" target=\"_parent\"><img src=\"https://colab.research.google.com/assets/colab-badge.svg\" alt=\"Open In Colab\"/></a>"
      ]
    },
    {
      "cell_type": "markdown",
      "metadata": {
        "id": "sGIwCyj377YF"
      },
      "source": [
        "#**Modelo matemático**\n",
        "\n",
        "1. Datos de entrada: \n",
        "\n",
        "Dados un par de vectores de entrada \n",
        "$$x_a \\epsilon X_a ; x_b \\epsilon X_b$$\n",
        "\n",
        "Kernels definidos \n",
        "$$K_a: X_a x X_a \\rightarrow R ; K_b: X_b x X_b \\rightarrow R$$\n",
        "\n",
        "Propiedades reproductivas del kernel:\n",
        "\n",
        "$$Z_a = K_a \\alpha_a$$\n",
        "$$Z_b = K_b \\alpha_b$$\n",
        "\n",
        "Restricciones:\n",
        "$$K_a \\epsilon R^{NxN}$$ \n",
        "$$K_b \\epsilon R^{NxN}$$ \n",
        "\n",
        "2. Función de costo\n",
        "\n",
        "$$cos(\\theta) = max <Z_a, Z_b> = < K_a\\alpha_a, K_b\\alpha_b> = \\alpha_a^\\top K_a^\\top K_b\\alpha_b$$\n",
        "\n",
        "s.t. $||Z_a||_2 = ||Z_b||_2 = 1$\n",
        "\n",
        "3. Solución de la función de costo:\n",
        "\n",
        "$$\\alpha_a = \\frac{1}{\\rho} (K_a + \\lambda_a I)^{-2} K_a^\\top K_b \\alpha_b$$\n",
        "\n",
        "$$A \\alpha_b = \\rho^2 \\alpha_b$$"
      ]
    },
    {
      "cell_type": "code",
      "metadata": {
        "id": "bS1oMVlC7-nM"
      },
      "source": [
        "import tensorflow as tf\n",
        "import tensorflow_probability as tfp \n",
        "import matplotlib.pyplot as plt \n",
        "import numpy as np \n",
        "import pandas as pd"
      ],
      "execution_count": 12,
      "outputs": []
    },
    {
      "cell_type": "code",
      "metadata": {
        "colab": {
          "base_uri": "https://localhost:8080/"
        },
        "id": "MN6zCcjpznNj",
        "outputId": "47b3d61b-617c-453a-85c1-08ccca878eac"
      },
      "source": [
        "(X_train_full, y_train_full), (X_test, y_test) = tf.keras.datasets.mnist.load_data()\n",
        "\n",
        "X_valid, X_train = X_train_full[:5000] / 255., X_train_full[5000:] / 255.\n",
        "y_valid, y_train = y_train_full[:5000], y_train_full[5000:]\n",
        "X_test = X_test / 255.\n",
        "\n",
        "print('Training samples: ', X_train.shape[0])\n",
        "print('Test samples: ', X_test.shape[0])\n",
        "print('Validation samples: ', X_valid.shape[0])"
      ],
      "execution_count": 2,
      "outputs": [
        {
          "output_type": "stream",
          "text": [
            "Downloading data from https://storage.googleapis.com/tensorflow/tf-keras-datasets/mnist.npz\n",
            "11493376/11490434 [==============================] - 0s 0us/step\n",
            "Training samples:  55000\n",
            "Test samples:  10000\n",
            "Validation samples:  5000\n"
          ],
          "name": "stdout"
        }
      ]
    },
    {
      "cell_type": "code",
      "metadata": {
        "id": "I0KaYOOx0L6M"
      },
      "source": [
        "class MyRegularizer(tf.keras.regularizers.Regularizer): \n",
        "    def __init__(self, lam=2.0):\n",
        "        self.lam = lam\n",
        "\n",
        "    def __call__(self, x):\n",
        "        E = tf.linalg.matmul(x,x,transpose_a=True)-tf.eye(tf.shape(x)[1]) \n",
        "        return self.lam * tf.linalg.trace(tf.linalg.matmul(E,E))\n",
        "\n",
        "  \n",
        "def custom_loss(num):  \n",
        "    @tf.function()\n",
        "    def custom_cca_loss(y_true,y_pred):\n",
        "      y_1 = y_pred[:,:num] \n",
        "      y_2 = y_pred[:,num:] \n",
        "      \n",
        "      norm_y1 = tf.reshape(tf.norm(y_1,axis=0),(-1,1))\n",
        "      norm_y2 = tf.reshape(tf.norm(y_2,axis=0),(-1,1))\n",
        "      norm_matrix = tf.linalg.matmul(norm_y1,norm_y2,transpose_b=True)\n",
        "\n",
        "      f = tf.linalg.matmul(y_1,y_2,transpose_a=True)/norm_matrix\n",
        "      f = tf.reduce_mean(f) \n",
        "      return -f\n",
        "    return custom_cca_loss"
      ],
      "execution_count": 4,
      "outputs": []
    },
    {
      "cell_type": "code",
      "metadata": {
        "id": "BCkt7TNh1-a0"
      },
      "source": [
        "tf.keras.backend.clear_session()"
      ],
      "execution_count": 5,
      "outputs": []
    },
    {
      "cell_type": "code",
      "metadata": {
        "id": "GGNk4NHf0R2l"
      },
      "source": [
        "l1 = 1e-3\n",
        "l2 = 1e-3\n",
        "     \n",
        "# Entradas del modelo \n",
        "input = tf.keras.layers.Input(shape=(X_train.shape[1], X_train.shape[2]))\n",
        "input_x = tf.keras.layers.Flatten(input_shape=(X_train.shape[1], X_train.shape[2]), name=\"Input_X\")(input)\n",
        "input_y = tf.keras.layers.Input(shape=(1), name=\"Input_y\")\n",
        "\n",
        "# Rotación del espacio\n",
        "rotate_x = tf.keras.layers.Dense(100, \n",
        "                                 activation='linear',\n",
        "                                 use_bias=False,\n",
        "                                 name='projection1',\n",
        "                                 kernel_regularizer=tf.keras.regularizers.l1_l2(l1=l1,l2=l2))(input_x)\n",
        "\n",
        "rotate_y = tf.keras.layers.Dense(100,\n",
        "                                 activation='linear',\n",
        "                                 use_bias=False,\n",
        "                                 name='projection2',\n",
        "                                 kernel_regularizer=tf.keras.regularizers.l1_l2(l1=l1,l2=l2))(input_y)\n",
        "\n",
        "\n",
        "# Capas Random Fourier Feature (RFF)\n",
        "RFF_x =  tf.keras.layers.experimental.RandomFourierFeatures(output_dim=20,\n",
        "                                                            scale=11,\n",
        "                                                            kernel_initializer='gaussian',\n",
        "                                                            trainable= True,\n",
        "                                                            name='rbf_fourier_a')(rotate_x)\n",
        "\n",
        "RFF_y =  tf.keras.layers.experimental.RandomFourierFeatures(output_dim=20,\n",
        "                                                            scale=11,\n",
        "                                                            kernel_initializer='gaussian',\n",
        "                                                            trainable= True,\n",
        "                                                            name='rbf_fourier_b')(rotate_y)\n",
        "\n",
        "\n",
        "# Capas densas del modelos \n",
        "dense_x = tf.keras.layers.Dense(2, \n",
        "                                activation='linear',\n",
        "                                use_bias=False,\n",
        "                                name='ouput1',\n",
        "                                kernel_regularizer=MyRegularizer())(RFF_x)\n",
        "\n",
        "dense_y = tf.keras.layers.Dense(2,\n",
        "                                activation='linear',\n",
        "                                use_bias=False,\n",
        "                                name='ouput2',\n",
        "                                kernel_regularizer=MyRegularizer())(RFF_y) \n",
        "\n",
        "# Capa de concatenación\n",
        "concat = tf.keras.layers.Concatenate()([dense_x, dense_y])\n",
        "\n",
        "# Creación del modelo\n",
        "model = tf.keras.Model(inputs=[input, input_y], outputs=[concat])\n",
        "\n"
      ],
      "execution_count": 6,
      "outputs": []
    },
    {
      "cell_type": "code",
      "metadata": {
        "colab": {
          "base_uri": "https://localhost:8080/",
          "height": 1000
        },
        "id": "-HR6luEm5J2W",
        "outputId": "157636dd-e7ba-4886-d8a4-f36a2023a170"
      },
      "source": [
        "# Esquema del modelo  \n",
        "model.summary()\n",
        "tf.keras.utils.plot_model(model)"
      ],
      "execution_count": 7,
      "outputs": [
        {
          "output_type": "stream",
          "text": [
            "Model: \"functional_1\"\n",
            "__________________________________________________________________________________________________\n",
            "Layer (type)                    Output Shape         Param #     Connected to                     \n",
            "==================================================================================================\n",
            "input_1 (InputLayer)            [(None, 28, 28)]     0                                            \n",
            "__________________________________________________________________________________________________\n",
            "Input_X (Flatten)               (None, 784)          0           input_1[0][0]                    \n",
            "__________________________________________________________________________________________________\n",
            "Input_y (InputLayer)            [(None, 1)]          0                                            \n",
            "__________________________________________________________________________________________________\n",
            "projection1 (Dense)             (None, 100)          78400       Input_X[0][0]                    \n",
            "__________________________________________________________________________________________________\n",
            "projection2 (Dense)             (None, 100)          100         Input_y[0][0]                    \n",
            "__________________________________________________________________________________________________\n",
            "rbf_fourier_a (RandomFourierFea (None, 20)           2021        projection1[0][0]                \n",
            "__________________________________________________________________________________________________\n",
            "rbf_fourier_b (RandomFourierFea (None, 20)           2021        projection2[0][0]                \n",
            "__________________________________________________________________________________________________\n",
            "ouput1 (Dense)                  (None, 2)            40          rbf_fourier_a[0][0]              \n",
            "__________________________________________________________________________________________________\n",
            "ouput2 (Dense)                  (None, 2)            40          rbf_fourier_b[0][0]              \n",
            "__________________________________________________________________________________________________\n",
            "concatenate (Concatenate)       (None, 4)            0           ouput1[0][0]                     \n",
            "                                                                 ouput2[0][0]                     \n",
            "==================================================================================================\n",
            "Total params: 82,622\n",
            "Trainable params: 78,582\n",
            "Non-trainable params: 4,040\n",
            "__________________________________________________________________________________________________\n"
          ],
          "name": "stdout"
        },
        {
          "output_type": "execute_result",
          "data": {
            "image/png": "[encoded data removed]",
            "text/plain": [
              "<IPython.core.display.Image object>"
            ]
          },
          "metadata": {
            "tags": []
          },
          "execution_count": 7
        }
      ]
    },
    {
      "cell_type": "code",
      "metadata": {
        "id": "AEcwDBRe5SS3"
      },
      "source": [
        "model.compile(loss=[custom_loss(2)],\n",
        "              metrics=custom_loss(2))\n"
      ],
      "execution_count": 8,
      "outputs": []
    },
    {
      "cell_type": "code",
      "metadata": {
        "colab": {
          "base_uri": "https://localhost:8080/"
        },
        "id": "5ivgE3Rv5ndK",
        "outputId": "450dadb5-35cc-463e-f9aa-c854a86c9b68"
      },
      "source": [
        "history = model.fit(x=[X_train, y_train], y=[y_train],\n",
        "                   epochs=50,\n",
        "                   batch_size=240,\n",
        "                   validation_split=0.2)"
      ],
      "execution_count": 10,
      "outputs": [
        {
          "output_type": "stream",
          "text": [
            "Epoch 1/50\n",
            "184/184 [==============================] - 1s 5ms/step - loss: 0.4966 - custom_cca_loss: -0.8733 - val_loss: -0.8838 - val_custom_cca_loss: -0.9565\n",
            "Epoch 2/50\n",
            "184/184 [==============================] - 1s 4ms/step - loss: -0.9307 - custom_cca_loss: -0.9860 - val_loss: -0.9498 - val_custom_cca_loss: -0.9968\n",
            "Epoch 3/50\n",
            "184/184 [==============================] - 1s 4ms/step - loss: -0.9553 - custom_cca_loss: -0.9989 - val_loss: -0.9586 - val_custom_cca_loss: -0.9999\n",
            "Epoch 4/50\n",
            "184/184 [==============================] - 1s 4ms/step - loss: -0.9598 - custom_cca_loss: -1.0000 - val_loss: -0.9601 - val_custom_cca_loss: -1.0000\n",
            "Epoch 5/50\n",
            "184/184 [==============================] - 1s 4ms/step - loss: -0.9604 - custom_cca_loss: -1.0000 - val_loss: -0.9605 - val_custom_cca_loss: -1.0000\n",
            "Epoch 6/50\n",
            "184/184 [==============================] - 1s 4ms/step - loss: -0.9606 - custom_cca_loss: -1.0000 - val_loss: -0.9605 - val_custom_cca_loss: -1.0000\n",
            "Epoch 7/50\n",
            "184/184 [==============================] - 1s 4ms/step - loss: -0.9606 - custom_cca_loss: -1.0000 - val_loss: -0.9606 - val_custom_cca_loss: -1.0000\n",
            "Epoch 8/50\n",
            "184/184 [==============================] - 1s 4ms/step - loss: -0.9606 - custom_cca_loss: -1.0000 - val_loss: -0.9605 - val_custom_cca_loss: -1.0000\n",
            "Epoch 9/50\n",
            "184/184 [==============================] - 1s 4ms/step - loss: -0.9606 - custom_cca_loss: -1.0000 - val_loss: -0.9606 - val_custom_cca_loss: -1.0000\n",
            "Epoch 10/50\n",
            "184/184 [==============================] - 1s 4ms/step - loss: -0.9606 - custom_cca_loss: -1.0000 - val_loss: -0.9606 - val_custom_cca_loss: -1.0000\n",
            "Epoch 11/50\n",
            "184/184 [==============================] - 1s 4ms/step - loss: -0.9606 - custom_cca_loss: -1.0000 - val_loss: -0.9606 - val_custom_cca_loss: -1.0000\n",
            "Epoch 12/50\n",
            "184/184 [==============================] - 1s 4ms/step - loss: -0.9606 - custom_cca_loss: -1.0000 - val_loss: -0.9606 - val_custom_cca_loss: -1.0000\n",
            "Epoch 13/50\n",
            "184/184 [==============================] - 1s 4ms/step - loss: -0.9606 - custom_cca_loss: -1.0000 - val_loss: -0.9606 - val_custom_cca_loss: -1.0000\n",
            "Epoch 14/50\n",
            "184/184 [==============================] - 1s 4ms/step - loss: -0.9606 - custom_cca_loss: -1.0000 - val_loss: -0.9606 - val_custom_cca_loss: -1.0000\n",
            "Epoch 15/50\n",
            "184/184 [==============================] - 1s 4ms/step - loss: -0.9606 - custom_cca_loss: -1.0000 - val_loss: -0.9605 - val_custom_cca_loss: -1.0000\n",
            "Epoch 16/50\n",
            "184/184 [==============================] - 1s 4ms/step - loss: -0.9606 - custom_cca_loss: -1.0000 - val_loss: -0.9606 - val_custom_cca_loss: -1.0000\n",
            "Epoch 17/50\n",
            "184/184 [==============================] - 1s 4ms/step - loss: -0.9606 - custom_cca_loss: -1.0000 - val_loss: -0.9606 - val_custom_cca_loss: -1.0000\n",
            "Epoch 18/50\n",
            "184/184 [==============================] - 1s 4ms/step - loss: -0.9606 - custom_cca_loss: -1.0000 - val_loss: -0.9606 - val_custom_cca_loss: -1.0000\n",
            "Epoch 19/50\n",
            "184/184 [==============================] - 1s 4ms/step - loss: -0.9606 - custom_cca_loss: -1.0000 - val_loss: -0.9606 - val_custom_cca_loss: -1.0000\n",
            "Epoch 20/50\n",
            "184/184 [==============================] - 1s 4ms/step - loss: -0.9606 - custom_cca_loss: -1.0000 - val_loss: -0.9606 - val_custom_cca_loss: -1.0000\n",
            "Epoch 21/50\n",
            "184/184 [==============================] - 1s 4ms/step - loss: -0.9606 - custom_cca_loss: -1.0000 - val_loss: -0.9606 - val_custom_cca_loss: -1.0000\n",
            "Epoch 22/50\n",
            "184/184 [==============================] - 1s 4ms/step - loss: -0.9606 - custom_cca_loss: -1.0000 - val_loss: -0.9606 - val_custom_cca_loss: -1.0000\n",
            "Epoch 23/50\n",
            "184/184 [==============================] - 1s 4ms/step - loss: -0.9606 - custom_cca_loss: -1.0000 - val_loss: -0.9606 - val_custom_cca_loss: -1.0000\n",
            "Epoch 24/50\n",
            "184/184 [==============================] - 1s 4ms/step - loss: -0.9606 - custom_cca_loss: -1.0000 - val_loss: -0.9606 - val_custom_cca_loss: -1.0000\n",
            "Epoch 25/50\n",
            "184/184 [==============================] - 1s 4ms/step - loss: -0.9606 - custom_cca_loss: -1.0000 - val_loss: -0.9606 - val_custom_cca_loss: -1.0000\n",
            "Epoch 26/50\n",
            "184/184 [==============================] - 1s 4ms/step - loss: -0.9606 - custom_cca_loss: -1.0000 - val_loss: -0.9606 - val_custom_cca_loss: -1.0000\n",
            "Epoch 27/50\n",
            "184/184 [==============================] - 1s 4ms/step - loss: -0.9606 - custom_cca_loss: -1.0000 - val_loss: -0.9606 - val_custom_cca_loss: -1.0000\n",
            "Epoch 28/50\n",
            "184/184 [==============================] - 1s 4ms/step - loss: -0.9606 - custom_cca_loss: -1.0000 - val_loss: -0.9606 - val_custom_cca_loss: -1.0000\n",
            "Epoch 29/50\n",
            "184/184 [==============================] - 1s 4ms/step - loss: -0.9606 - custom_cca_loss: -1.0000 - val_loss: -0.9606 - val_custom_cca_loss: -1.0000\n",
            "Epoch 30/50\n",
            "184/184 [==============================] - 1s 4ms/step - loss: -0.9606 - custom_cca_loss: -1.0000 - val_loss: -0.9606 - val_custom_cca_loss: -1.0000\n",
            "Epoch 31/50\n",
            "184/184 [==============================] - 1s 4ms/step - loss: -0.9606 - custom_cca_loss: -1.0000 - val_loss: -0.9606 - val_custom_cca_loss: -1.0000\n",
            "Epoch 32/50\n",
            "184/184 [==============================] - 1s 4ms/step - loss: -0.9606 - custom_cca_loss: -1.0000 - val_loss: -0.9606 - val_custom_cca_loss: -1.0000\n",
            "Epoch 33/50\n",
            "184/184 [==============================] - 1s 4ms/step - loss: -0.9606 - custom_cca_loss: -1.0000 - val_loss: -0.9606 - val_custom_cca_loss: -1.0000\n",
            "Epoch 34/50\n",
            "184/184 [==============================] - 1s 4ms/step - loss: -0.9606 - custom_cca_loss: -1.0000 - val_loss: -0.9606 - val_custom_cca_loss: -1.0000\n",
            "Epoch 35/50\n",
            "184/184 [==============================] - 1s 4ms/step - loss: -0.9606 - custom_cca_loss: -1.0000 - val_loss: -0.9606 - val_custom_cca_loss: -1.0000\n",
            "Epoch 36/50\n",
            "184/184 [==============================] - 1s 4ms/step - loss: -0.9606 - custom_cca_loss: -1.0000 - val_loss: -0.9606 - val_custom_cca_loss: -1.0000\n",
            "Epoch 37/50\n",
            "184/184 [==============================] - 1s 4ms/step - loss: -0.9606 - custom_cca_loss: -1.0000 - val_loss: -0.9606 - val_custom_cca_loss: -1.0000\n",
            "Epoch 38/50\n",
            "184/184 [==============================] - 1s 4ms/step - loss: -0.9606 - custom_cca_loss: -1.0000 - val_loss: -0.9606 - val_custom_cca_loss: -1.0000\n",
            "Epoch 39/50\n",
            "184/184 [==============================] - 1s 4ms/step - loss: -0.9606 - custom_cca_loss: -1.0000 - val_loss: -0.9606 - val_custom_cca_loss: -1.0000\n",
            "Epoch 40/50\n",
            "184/184 [==============================] - 1s 4ms/step - loss: -0.9606 - custom_cca_loss: -1.0000 - val_loss: -0.9606 - val_custom_cca_loss: -1.0000\n",
            "Epoch 41/50\n",
            "184/184 [==============================] - 1s 4ms/step - loss: -0.9606 - custom_cca_loss: -1.0000 - val_loss: -0.9606 - val_custom_cca_loss: -1.0000\n",
            "Epoch 42/50\n",
            "184/184 [==============================] - 1s 4ms/step - loss: -0.9606 - custom_cca_loss: -1.0000 - val_loss: -0.9606 - val_custom_cca_loss: -1.0000\n",
            "Epoch 43/50\n",
            "184/184 [==============================] - 1s 4ms/step - loss: -0.9606 - custom_cca_loss: -1.0000 - val_loss: -0.9606 - val_custom_cca_loss: -1.0000\n",
            "Epoch 44/50\n",
            "184/184 [==============================] - 1s 4ms/step - loss: -0.9606 - custom_cca_loss: -1.0000 - val_loss: -0.9606 - val_custom_cca_loss: -1.0000\n",
            "Epoch 45/50\n",
            "184/184 [==============================] - 1s 4ms/step - loss: -0.9606 - custom_cca_loss: -1.0000 - val_loss: -0.9605 - val_custom_cca_loss: -1.0000\n",
            "Epoch 46/50\n",
            "184/184 [==============================] - 1s 4ms/step - loss: -0.9606 - custom_cca_loss: -1.0000 - val_loss: -0.9606 - val_custom_cca_loss: -1.0000\n",
            "Epoch 47/50\n",
            "184/184 [==============================] - 1s 4ms/step - loss: -0.9606 - custom_cca_loss: -1.0000 - val_loss: -0.9606 - val_custom_cca_loss: -1.0000\n",
            "Epoch 48/50\n",
            "184/184 [==============================] - 1s 4ms/step - loss: -0.9606 - custom_cca_loss: -1.0000 - val_loss: -0.9606 - val_custom_cca_loss: -1.0000\n",
            "Epoch 49/50\n",
            "184/184 [==============================] - 1s 4ms/step - loss: -0.9606 - custom_cca_loss: -1.0000 - val_loss: -0.9606 - val_custom_cca_loss: -1.0000\n",
            "Epoch 50/50\n",
            "184/184 [==============================] - 1s 4ms/step - loss: -0.9606 - custom_cca_loss: -1.0000 - val_loss: -0.9606 - val_custom_cca_loss: -1.0000\n"
          ],
          "name": "stdout"
        }
      ]
    },
    {
      "cell_type": "code",
      "metadata": {
        "colab": {
          "base_uri": "https://localhost:8080/",
          "height": 301
        },
        "id": "wpN6a9Wf8JzA",
        "outputId": "2a9a64c4-4fed-4111-adeb-d608b8fae451"
      },
      "source": [
        "hpd = pd.DataFrame(history.history)\n",
        "\n",
        "hpd.plot()\n",
        "plt.title('Performance metrics', c='r')\n",
        "plt.grid(True)\n",
        "plt.show()"
      ],
      "execution_count": 14,
      "outputs": [
        {
          "output_type": "display_data",
          "data": {
            "image/png": "[encoded data removed]",
            "text/plain": [
              "<Figure size 432x288 with 1 Axes>"
            ]
          },
          "metadata": {
            "tags": [],
            "needs_background": "light"
          }
        }
      ]
    }
  ]
}
