{
  "nbformat": 4,
  "nbformat_minor": 0,
  "metadata": {
    "colab": {
      "name": "NND-Cla_Clothes-PyT.ipynb",
      "provenance": [],
      "authorship_tag": "ABX9TyN2iMozZ1vBeuMVGyVVJLM4",
      "include_colab_link": true
    },
    "kernelspec": {
      "name": "python3",
      "display_name": "Python 3"
    },
    "language_info": {
      "name": "python"
    },
    "accelerator": "GPU"
  },
  "cells": [
    {
      "cell_type": "markdown",
      "metadata": {
        "id": "view-in-github",
        "colab_type": "text"
      },
      "source": [
        "<a href=\"https://colab.research.google.com/github/ealeongomez/Deep-Learning/blob/master/NND_Cla_Clothes_PyT.ipynb\" target=\"_parent\"><img src=\"https://colab.research.google.com/assets/colab-badge.svg\" alt=\"Open In Colab\"/></a>"
      ]
    },
    {
      "cell_type": "markdown",
      "metadata": {
        "id": "mgbFWrhDiGov"
      },
      "source": [
        "#**Libraries**"
      ]
    },
    {
      "cell_type": "code",
      "metadata": {
        "id": "76hWhz5SiJPr"
      },
      "source": [
        "# Basic libraries\n",
        "import matplotlib.pyplot as plt\n",
        "\n",
        "# Deep Learning \n",
        "import torch\n",
        "from torch import nn\n",
        "from torch.utils.data import DataLoader\n",
        "from torchvision import datasets\n",
        "from torchvision.transforms import ToTensor, Lambda, Compose\n"
      ],
      "execution_count": 1,
      "outputs": []
    },
    {
      "cell_type": "code",
      "metadata": {
        "colab": {
          "base_uri": "https://localhost:8080/"
        },
        "id": "7vVnow_WjGm3",
        "outputId": "58e971d5-999a-44cf-a3ff-2c2ba8c68b34"
      },
      "source": [
        "# Get cpu or gpu device for training.\n",
        "device = \"cuda\" if torch.cuda.is_available() else \"cpu\"\n",
        "print(\"Using {} device\".format(device))"
      ],
      "execution_count": 2,
      "outputs": [
        {
          "output_type": "stream",
          "name": "stdout",
          "text": [
            "Using cuda device\n"
          ]
        }
      ]
    },
    {
      "cell_type": "markdown",
      "metadata": {
        "id": "x483UbG-iOiQ"
      },
      "source": [
        "#**Load data**"
      ]
    },
    {
      "cell_type": "code",
      "metadata": {
        "colab": {
          "base_uri": "https://localhost:8080/"
        },
        "id": "C98MgPG1iQtg",
        "outputId": "f73c05b4-082f-4bb0-845a-6f60fc1f226d"
      },
      "source": [
        "# Download training data from open datasets.\n",
        "training_data = datasets.FashionMNIST(\n",
        "    root=\"data\",\n",
        "    train=True,\n",
        "    download=True,\n",
        "    transform=ToTensor(),\n",
        ")\n",
        "\n",
        "# Download test data from open datasets.\n",
        "test_data = datasets.FashionMNIST(\n",
        "    root=\"data\",\n",
        "    train=False,\n",
        "    download=True,\n",
        "    transform=ToTensor(),\n",
        ")"
      ],
      "execution_count": 3,
      "outputs": [
        {
          "output_type": "stream",
          "name": "stderr",
          "text": [
            "/usr/local/lib/python3.7/dist-packages/torchvision/datasets/mnist.py:498: UserWarning: The given NumPy array is not writeable, and PyTorch does not support non-writeable tensors. This means you can write to the underlying (supposedly non-writeable) NumPy array using the tensor. You may want to copy the array to protect its data or make it writeable before converting it to a tensor. This type of warning will be suppressed for the rest of this program. (Triggered internally at  /pytorch/torch/csrc/utils/tensor_numpy.cpp:180.)\n",
            "  return torch.from_numpy(parsed.astype(m[2], copy=False)).view(*s)\n"
          ]
        }
      ]
    },
    {
      "cell_type": "code",
      "metadata": {
        "colab": {
          "base_uri": "https://localhost:8080/"
        },
        "id": "RgTN4St2imVH",
        "outputId": "d1d5b26b-ec3b-4b8a-8a5e-842c209eb4d9"
      },
      "source": [
        "batch_size = 64\n",
        "\n",
        "# Create data loaders.\n",
        "train_dataloader = DataLoader(training_data, batch_size=batch_size)\n",
        "test_dataloader = DataLoader(test_data, batch_size=batch_size)\n",
        "\n",
        "for X, y in test_dataloader:\n",
        "    print(\"Shape of X [N, C, H, W]: \", X.shape)\n",
        "    print(\"Shape of y: \", y.shape, y.dtype)\n",
        "    break"
      ],
      "execution_count": 4,
      "outputs": [
        {
          "output_type": "stream",
          "name": "stdout",
          "text": [
            "Shape of X [N, C, H, W]:  torch.Size([64, 1, 28, 28])\n",
            "Shape of y:  torch.Size([64]) torch.int64\n"
          ]
        }
      ]
    },
    {
      "cell_type": "markdown",
      "metadata": {
        "id": "MCwkulYYiq2m"
      },
      "source": [
        "#**Create model**"
      ]
    },
    {
      "cell_type": "code",
      "metadata": {
        "colab": {
          "base_uri": "https://localhost:8080/"
        },
        "id": "qKgMwsyzjDMz",
        "outputId": "b7f31586-e347-45fa-f9db-bb1d3ab1e6ad"
      },
      "source": [
        "class NeuralNetwork(nn.Module):\n",
        "    def __init__(self):\n",
        "      \"\"\"\n",
        "        Function that defines the structure of the neural network\n",
        "      \"\"\"\n",
        "      super(NeuralNetwork, self).__init__()\n",
        "\n",
        "      self.flatten = nn.Flatten()\n",
        "      self.linear_relu_stack = nn.Sequential(nn.Linear(28*28, 512),\n",
        "                                               nn.ReLU(),\n",
        "                                               nn.Linear(512, 512),\n",
        "                                               nn.ReLU(),\n",
        "                                               nn.Linear(512, 10)\n",
        "      )\n",
        "\n",
        "    def forward(self, x):\n",
        "        x = self.flatten(x)\n",
        "        logits = self.linear_relu_stack(x)\n",
        "        return logits\n",
        "\n",
        "model = NeuralNetwork().to(device)\n",
        "print(model)"
      ],
      "execution_count": 5,
      "outputs": [
        {
          "output_type": "stream",
          "name": "stdout",
          "text": [
            "NeuralNetwork(\n",
            "  (flatten): Flatten(start_dim=1, end_dim=-1)\n",
            "  (linear_relu_stack): Sequential(\n",
            "    (0): Linear(in_features=784, out_features=512, bias=True)\n",
            "    (1): ReLU()\n",
            "    (2): Linear(in_features=512, out_features=512, bias=True)\n",
            "    (3): ReLU()\n",
            "    (4): Linear(in_features=512, out_features=10, bias=True)\n",
            "  )\n",
            ")\n"
          ]
        }
      ]
    },
    {
      "cell_type": "code",
      "metadata": {
        "id": "dZeejo2mkS5L"
      },
      "source": [
        "# Cost function\n",
        "loss_fn = nn.CrossEntropyLoss()\n",
        "\n",
        "# Optimization\n",
        "optimizer = torch.optim.SGD(model.parameters(), lr=1e-3)\n"
      ],
      "execution_count": 6,
      "outputs": []
    },
    {
      "cell_type": "code",
      "metadata": {
        "id": "hlXxFHpFkeP7"
      },
      "source": [
        "def train(dataloader, model, loss_fn, optimizer):\n",
        "  \"\"\"\n",
        "    Training neural network\n",
        "      Input \n",
        "        dataloader: dataset\n",
        "        model: structure of neural network\n",
        "        loss_fn: cost function of neural network\n",
        "        optimizer: optmization of neural network\n",
        "  \"\"\"\n",
        "  size = len(dataloader.dataset)\n",
        "  model.train()\n",
        "  for batch, (X, y) in enumerate(dataloader):\n",
        "    X, y = X.to(device), y.to(device)\n",
        "\n",
        "    # Compute prediction error\n",
        "    pred = model(X)\n",
        "    loss = loss_fn(pred, y)\n",
        "\n",
        "    # Backpropagation\n",
        "    optimizer.zero_grad()\n",
        "    loss.backward()\n",
        "    optimizer.step()\n",
        "\n",
        "    if batch % 100 == 0:\n",
        "        loss, current = loss.item(), batch * len(X)\n",
        "        print(f\"loss: {loss:>7f}  [{current:>5d}/{size:>5d}]\")"
      ],
      "execution_count": 7,
      "outputs": []
    },
    {
      "cell_type": "code",
      "metadata": {
        "id": "bzcUl1Sqkinp"
      },
      "source": [
        "def test(dataloader, model, loss_fn):\n",
        "    size = len(dataloader.dataset)\n",
        "    num_batches = len(dataloader)\n",
        "    model.eval()\n",
        "    test_loss, correct = 0, 0\n",
        "    with torch.no_grad():\n",
        "        for X, y in dataloader:\n",
        "            X, y = X.to(device), y.to(device)\n",
        "            pred = model(X)\n",
        "            test_loss += loss_fn(pred, y).item()\n",
        "            correct += (pred.argmax(1) == y).type(torch.float).sum().item()\n",
        "    test_loss /= num_batches\n",
        "    correct /= size\n",
        "    print(f\"Test Error: \\n Accuracy: {(100*correct):>0.1f}%, Avg loss: {test_loss:>8f} \\n\")"
      ],
      "execution_count": 8,
      "outputs": []
    },
    {
      "cell_type": "code",
      "metadata": {
        "colab": {
          "base_uri": "https://localhost:8080/"
        },
        "id": "KDi4gavBklls",
        "outputId": "5c3c6607-a81e-4e50-9d51-3c7d82e1e7d5"
      },
      "source": [
        "epochs = 5\n",
        "for t in range(epochs):\n",
        "    print(f\"Epoch {t+1}\\n-------------------------------\")\n",
        "    train(train_dataloader, model, loss_fn, optimizer)\n",
        "    test(test_dataloader, model, loss_fn)\n",
        "print(\"Done!\")"
      ],
      "execution_count": 9,
      "outputs": [
        {
          "output_type": "stream",
          "name": "stdout",
          "text": [
            "Epoch 1\n",
            "-------------------------------\n",
            "loss: 2.318537  [    0/60000]\n",
            "loss: 2.295089  [ 6400/60000]\n",
            "loss: 2.274011  [12800/60000]\n",
            "loss: 2.250698  [19200/60000]\n",
            "loss: 2.243445  [25600/60000]\n",
            "loss: 2.211896  [32000/60000]\n",
            "loss: 2.220745  [38400/60000]\n",
            "loss: 2.187192  [44800/60000]\n",
            "loss: 2.175524  [51200/60000]\n",
            "loss: 2.130313  [57600/60000]\n",
            "Test Error: \n",
            " Accuracy: 33.0%, Avg loss: 2.135675 \n",
            "\n",
            "Epoch 2\n",
            "-------------------------------\n",
            "loss: 2.156044  [    0/60000]\n",
            "loss: 2.138664  [ 6400/60000]\n",
            "loss: 2.077760  [12800/60000]\n",
            "loss: 2.082165  [19200/60000]\n",
            "loss: 2.036794  [25600/60000]\n",
            "loss: 1.971772  [32000/60000]\n",
            "loss: 1.996611  [38400/60000]\n",
            "loss: 1.915156  [44800/60000]\n",
            "loss: 1.920738  [51200/60000]\n",
            "loss: 1.843489  [57600/60000]\n",
            "Test Error: \n",
            " Accuracy: 56.5%, Avg loss: 1.845014 \n",
            "\n",
            "Epoch 3\n",
            "-------------------------------\n",
            "loss: 1.889728  [    0/60000]\n",
            "loss: 1.849560  [ 6400/60000]\n",
            "loss: 1.732721  [12800/60000]\n",
            "loss: 1.765062  [19200/60000]\n",
            "loss: 1.665874  [25600/60000]\n",
            "loss: 1.620009  [32000/60000]\n",
            "loss: 1.633894  [38400/60000]\n",
            "loss: 1.543944  [44800/60000]\n",
            "loss: 1.580848  [51200/60000]\n",
            "loss: 1.470907  [57600/60000]\n",
            "Test Error: \n",
            " Accuracy: 61.1%, Avg loss: 1.488388 \n",
            "\n",
            "Epoch 4\n",
            "-------------------------------\n",
            "loss: 1.567556  [    0/60000]\n",
            "loss: 1.525666  [ 6400/60000]\n",
            "loss: 1.377553  [12800/60000]\n",
            "loss: 1.440596  [19200/60000]\n",
            "loss: 1.340419  [25600/60000]\n",
            "loss: 1.331522  [32000/60000]\n",
            "loss: 1.339104  [38400/60000]\n",
            "loss: 1.271179  [44800/60000]\n",
            "loss: 1.316684  [51200/60000]\n",
            "loss: 1.217163  [57600/60000]\n",
            "Test Error: \n",
            " Accuracy: 63.5%, Avg loss: 1.238889 \n",
            "\n",
            "Epoch 5\n",
            "-------------------------------\n",
            "loss: 1.322945  [    0/60000]\n",
            "loss: 1.301558  [ 6400/60000]\n",
            "loss: 1.133680  [12800/60000]\n",
            "loss: 1.233519  [19200/60000]\n",
            "loss: 1.129273  [25600/60000]\n",
            "loss: 1.140063  [32000/60000]\n",
            "loss: 1.158237  [38400/60000]\n",
            "loss: 1.099857  [44800/60000]\n",
            "loss: 1.148288  [51200/60000]\n",
            "loss: 1.067436  [57600/60000]\n",
            "Test Error: \n",
            " Accuracy: 64.9%, Avg loss: 1.082604 \n",
            "\n",
            "Done!\n"
          ]
        }
      ]
    },
    {
      "cell_type": "code",
      "metadata": {
        "colab": {
          "base_uri": "https://localhost:8080/"
        },
        "id": "D3k96XoKlN1c",
        "outputId": "6631653d-ec93-4592-b6c8-cd4a7d81f74f"
      },
      "source": [
        "torch.save(model.state_dict(), \"model.pth\")\n",
        "print(\"Saved PyTorch Model State to model.pth\")"
      ],
      "execution_count": 10,
      "outputs": [
        {
          "output_type": "stream",
          "name": "stdout",
          "text": [
            "Saved PyTorch Model State to model.pth\n"
          ]
        }
      ]
    },
    {
      "cell_type": "code",
      "metadata": {
        "colab": {
          "base_uri": "https://localhost:8080/"
        },
        "id": "9HCAMsDvlU27",
        "outputId": "671380e5-b811-4574-ee81-0657b0e23245"
      },
      "source": [
        "model = NeuralNetwork()\n",
        "model.load_state_dict(torch.load(\"model.pth\"))"
      ],
      "execution_count": 11,
      "outputs": [
        {
          "output_type": "execute_result",
          "data": {
            "text/plain": [
              "<All keys matched successfully>"
            ]
          },
          "metadata": {},
          "execution_count": 11
        }
      ]
    },
    {
      "cell_type": "code",
      "metadata": {
        "colab": {
          "base_uri": "https://localhost:8080/",
          "height": 264
        },
        "id": "fPgkmqIQlXPb",
        "outputId": "922f8439-5d88-453b-e156-6f4f779c3148"
      },
      "source": [
        "classes = [ \"T-shirt/top\", \n",
        "           \"Trouser\",\n",
        "            \"Pullover\",\n",
        "            \"Dress\",\n",
        "            \"Coat\",\n",
        "            \"Sandal\",\n",
        "            \"Shirt\",\n",
        "            \"Sneaker\",\n",
        "            \"Bag\",\n",
        "            \"Ankle boot\"]\n",
        "\n",
        "model.eval()\n",
        "x, y = test_data[0][0], test_data[0][1]\n",
        "\n",
        "plt.imshow(x[0])\n",
        "plt.axis(False)\n",
        "plt.title(classes[y], c='r')\n",
        "plt.show()\n"
      ],
      "execution_count": 12,
      "outputs": [
        {
          "output_type": "display_data",
          "data": {
            "image/png": "[encoded data removed]",
            "text/plain": [
              "<Figure size 432x288 with 1 Axes>"
            ]
          },
          "metadata": {
            "needs_background": "light"
          }
        }
      ]
    },
    {
      "cell_type": "code",
      "metadata": {
        "colab": {
          "base_uri": "https://localhost:8080/"
        },
        "id": "vkio1b-2lbKZ",
        "outputId": "a836d5d3-9ff4-47ee-9bcc-1981b9f0a446"
      },
      "source": [
        "with torch.no_grad():\n",
        "    pred = model(x)\n",
        "    predicted, actual = classes[pred[0].argmax(0)], classes[y]\n",
        "    print(f'Predicted: \"{predicted}\", Actual: \"{actual}\"')"
      ],
      "execution_count": 13,
      "outputs": [
        {
          "output_type": "stream",
          "name": "stdout",
          "text": [
            "Predicted: \"Ankle boot\", Actual: \"Ankle boot\"\n"
          ]
        }
      ]
    }
  ]
}